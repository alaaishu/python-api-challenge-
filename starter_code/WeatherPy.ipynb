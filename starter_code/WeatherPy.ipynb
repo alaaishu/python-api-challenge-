{
 "cells": [
  {
   "cell_type": "markdown",
   "metadata": {},
   "source": [
    "# WeatherPy\n",
    "----\n",
    "\n",
    "#### Note\n",
    "* Instructions have been included for each segment. You do not have to follow them exactly, but they are included to help you think through the steps."
   ]
  },
  {
   "cell_type": "code",
   "execution_count": 87,
   "metadata": {
    "scrolled": true
   },
   "outputs": [],
   "source": [
    "# Dependencies and Setup\n",
    "import matplotlib.pyplot as plt\n",
    "import pandas as pd\n",
    "import numpy as np\n",
    "import requests\n",
    "import time\n",
    "from scipy.stats import linregress\n",
    "from pprint import pprint\n",
    "from datetime import datetime\n",
    "\n",
    "# Import API key\n",
    "from api_keys import weather_api_key\n",
    "\n",
    "# Incorporated citipy to determine city based on latitude and longitude\n",
    "from citipy import citipy\n",
    "\n",
    "# Output File (CSV)\n",
    "output_data_file = \"output_data/cities.csv\"\n",
    "\n",
    "# Range of latitudes and longitudes\n",
    "lat_range = (-90, 90)\n",
    "lng_range = (-180, 180)"
   ]
  },
  {
   "cell_type": "markdown",
   "metadata": {},
   "source": [
    "## Generate Cities List"
   ]
  },
  {
   "cell_type": "code",
   "execution_count": 2,
   "metadata": {},
   "outputs": [
    {
     "data": {
      "text/plain": [
       "605"
      ]
     },
     "execution_count": 2,
     "metadata": {},
     "output_type": "execute_result"
    }
   ],
   "source": [
    "# List for holding lat_lngs and cities\n",
    "lat_lngs = []\n",
    "cities = []\n",
    "countries=[]\n",
    "\n",
    "# Create a set of random lat and lng combinations\n",
    "lats = np.random.uniform(low=-90.000, high=90.000, size=1500)\n",
    "lngs = np.random.uniform(low=-180.000, high=180.000, size=1500)\n",
    "lat_lngs = zip(lats, lngs)\n",
    "\n",
    "# Identify nearest city for each lat, lng combination\n",
    "for lat_lng in lat_lngs:\n",
    "    city = citipy.nearest_city(lat_lng[0], lat_lng[1]).city_name\n",
    "    \n",
    "    # If the city is unique, then add it to a our cities list\n",
    "    if city not in cities:\n",
    "        cities.append(city)\n",
    "\n",
    "# Print the city count to confirm sufficient count\n",
    "len(cities)"
   ]
  },
  {
   "cell_type": "markdown",
   "metadata": {},
   "source": [
    "### Perform API Calls\n",
    "* Perform a weather check on each city using a series of successive API calls.\n",
    "* Include a print log of each city as it'sbeing processed (with the city number and city name).\n"
   ]
  },
  {
   "cell_type": "code",
   "execution_count": 3,
   "metadata": {},
   "outputs": [
    {
     "name": "stdout",
     "output_type": "stream",
     "text": [
      "Begin Data Retrieval\n",
      "Processing Record 1 of Set 1 | hami\n",
      "Processing Record 2 of Set 1 | victoria\n",
      "Processing Record 3 of Set 1 | hobart\n",
      "Processing Record 4 of Set 1 | hamilton\n",
      "Processing Record 5 of Set 1 | butaritari\n",
      "Processing Record 6 of Set 1 | ardakan\n",
      "Processing Record 7 of Set 1 | cap malheureux\n",
      "Processing Record 8 of Set 1 | half moon bay\n",
      "Processing Record 9 of Set 1 | georgetown\n",
      "Processing Record 10 of Set 1 | mataura\n",
      "Processing Record 11 of Set 1 | new norfolk\n",
      "Processing Record 12 of Set 1 | karla\n",
      "Processing Record 13 of Set 1 | yulara\n",
      "Processing Record 14 of Set 1 | chaman\n",
      "Processing Record 15 of Set 1 | alma\n",
      "Processing Record 16 of Set 1 | hay river\n",
      "Processing Record 17 of Set 1 | provideniya\n",
      "Processing Record 18 of Set 1 | yellowknife\n",
      "Processing Record 19 of Set 1 | amderma\n",
      "City not found. Skipping...\n",
      "Processing Record 20 of Set 1 | barrow\n",
      "Processing Record 21 of Set 1 | varkaus\n",
      "Processing Record 22 of Set 1 | bukene\n",
      "Processing Record 23 of Set 1 | ushuaia\n",
      "Processing Record 24 of Set 1 | rikitea\n",
      "Processing Record 25 of Set 1 | albany\n",
      "Processing Record 26 of Set 1 | chuy\n",
      "Processing Record 27 of Set 1 | vaini\n",
      "Processing Record 28 of Set 1 | tasiilaq\n",
      "Processing Record 29 of Set 1 | nabire\n",
      "Processing Record 30 of Set 1 | katsuura\n",
      "Processing Record 31 of Set 1 | torbay\n",
      "Processing Record 32 of Set 1 | dikson\n",
      "Processing Record 33 of Set 1 | vila velha\n",
      "Processing Record 34 of Set 1 | deer lake\n",
      "Processing Record 35 of Set 1 | castro\n",
      "Processing Record 36 of Set 1 | quatre cocos\n",
      "Processing Record 37 of Set 1 | port alfred\n",
      "Processing Record 38 of Set 1 | bluff\n",
      "Processing Record 39 of Set 1 | mahebourg\n",
      "Processing Record 40 of Set 1 | busselton\n",
      "Processing Record 41 of Set 1 | svetlogorsk\n",
      "Processing Record 42 of Set 1 | bengkulu\n",
      "Processing Record 43 of Set 1 | betare oya\n",
      "Processing Record 44 of Set 1 | qaanaaq\n",
      "Processing Record 45 of Set 1 | linshu\n",
      "City not found. Skipping...\n",
      "Processing Record 46 of Set 1 | bambous virieux\n",
      "Processing Record 47 of Set 1 | tahe\n",
      "Processing Record 48 of Set 1 | sibolga\n",
      "Processing Record 49 of Set 1 | kirakira\n",
      "Processing Record 50 of Set 1 | tadine\n",
      "Processing Record 1 of Set 2 | khatanga\n",
      "Processing Record 2 of Set 2 | dingle\n",
      "Processing Record 3 of Set 2 | pascagoula\n",
      "Processing Record 4 of Set 2 | rolim de moura\n",
      "City not found. Skipping...\n",
      "Processing Record 5 of Set 2 | avarua\n",
      "Processing Record 6 of Set 2 | qaqortoq\n",
      "Processing Record 7 of Set 2 | rio grande\n",
      "Processing Record 8 of Set 2 | ancud\n",
      "Processing Record 9 of Set 2 | meulaboh\n",
      "Processing Record 10 of Set 2 | fasa\n",
      "Processing Record 11 of Set 2 | tuktoyaktuk\n",
      "Processing Record 12 of Set 2 | taoudenni\n",
      "Processing Record 13 of Set 2 | severo-kurilsk\n",
      "Processing Record 14 of Set 2 | lebu\n",
      "Processing Record 15 of Set 2 | sentyabrskiy\n",
      "City not found. Skipping...\n",
      "Processing Record 16 of Set 2 | cape town\n",
      "Processing Record 17 of Set 2 | kahului\n",
      "Processing Record 18 of Set 2 | hermanus\n",
      "Processing Record 19 of Set 2 | salalah\n",
      "Processing Record 20 of Set 2 | jamestown\n",
      "Processing Record 21 of Set 2 | olinda\n",
      "Processing Record 22 of Set 2 | birao\n",
      "Processing Record 23 of Set 2 | calama\n",
      "Processing Record 24 of Set 2 | longyearbyen\n",
      "Processing Record 25 of Set 2 | taolanaro\n",
      "City not found. Skipping...\n",
      "Processing Record 26 of Set 2 | plouzane\n",
      "Processing Record 27 of Set 2 | aksay\n",
      "Processing Record 28 of Set 2 | mar del plata\n",
      "Processing Record 29 of Set 2 | rio cuarto\n",
      "Processing Record 30 of Set 2 | tabiauea\n",
      "City not found. Skipping...\n",
      "Processing Record 31 of Set 2 | saskylakh\n",
      "Processing Record 32 of Set 2 | buraydah\n",
      "Processing Record 33 of Set 2 | sitka\n",
      "Processing Record 34 of Set 2 | yongan\n",
      "Processing Record 35 of Set 2 | labuhan\n",
      "Processing Record 36 of Set 2 | rio gallegos\n",
      "Processing Record 37 of Set 2 | yeppoon\n",
      "Processing Record 38 of Set 2 | sola\n",
      "Processing Record 39 of Set 2 | san patricio\n",
      "Processing Record 40 of Set 2 | tiznit\n",
      "Processing Record 41 of Set 2 | saldanha\n",
      "Processing Record 42 of Set 2 | coquimbo\n",
      "Processing Record 43 of Set 2 | vao\n",
      "Processing Record 44 of Set 2 | kodiak\n",
      "Processing Record 45 of Set 2 | baft\n",
      "Processing Record 46 of Set 2 | coahuayana\n",
      "Processing Record 47 of Set 2 | northam\n",
      "Processing Record 48 of Set 2 | airai\n",
      "Processing Record 49 of Set 2 | saint-pierre\n",
      "Processing Record 50 of Set 2 | port elizabeth\n",
      "Processing Record 1 of Set 3 | souillac\n",
      "Processing Record 2 of Set 3 | sao filipe\n",
      "Processing Record 3 of Set 3 | palmer\n",
      "Processing Record 4 of Set 3 | dalbandin\n",
      "Processing Record 5 of Set 3 | razole\n",
      "Processing Record 6 of Set 3 | dicabisagan\n",
      "Processing Record 7 of Set 3 | kaitangata\n",
      "Processing Record 8 of Set 3 | iquique\n",
      "Processing Record 9 of Set 3 | nikolskoye\n",
      "Processing Record 10 of Set 3 | nanortalik\n",
      "Processing Record 11 of Set 3 | buenos aires\n",
      "Processing Record 12 of Set 3 | nizhneyansk\n",
      "City not found. Skipping...\n",
      "Processing Record 13 of Set 3 | broken hill\n",
      "Processing Record 14 of Set 3 | punta arenas\n",
      "Processing Record 15 of Set 3 | ribeira grande\n",
      "Processing Record 16 of Set 3 | pevek\n",
      "Processing Record 17 of Set 3 | cabo san lucas\n",
      "Processing Record 18 of Set 3 | mareeba\n",
      "Processing Record 19 of Set 3 | ahuimanu\n",
      "Processing Record 20 of Set 3 | richards bay\n",
      "Processing Record 21 of Set 3 | belushya guba\n",
      "City not found. Skipping...\n",
      "Processing Record 22 of Set 3 | illoqqortoormiut\n",
      "City not found. Skipping...\n",
      "Processing Record 23 of Set 3 | ondjiva\n",
      "Processing Record 24 of Set 3 | chokurdakh\n",
      "Processing Record 25 of Set 3 | atuona\n",
      "Processing Record 26 of Set 3 | cherskiy\n",
      "Processing Record 27 of Set 3 | cabedelo\n",
      "Processing Record 28 of Set 3 | pak phanang\n",
      "Processing Record 29 of Set 3 | thompson\n",
      "Processing Record 30 of Set 3 | puerto ayora\n",
      "Processing Record 31 of Set 3 | mys shmidta\n",
      "City not found. Skipping...\n",
      "Processing Record 32 of Set 3 | tura\n",
      "Processing Record 33 of Set 3 | vanimo\n",
      "Processing Record 34 of Set 3 | fortuna\n",
      "Processing Record 35 of Set 3 | gimli\n",
      "Processing Record 36 of Set 3 | casino\n",
      "Processing Record 37 of Set 3 | vaitape\n",
      "Processing Record 38 of Set 3 | capela\n",
      "Processing Record 39 of Set 3 | nazca\n",
      "Processing Record 40 of Set 3 | khovu-aksy\n",
      "Processing Record 41 of Set 3 | harper\n",
      "Processing Record 42 of Set 3 | narsaq\n",
      "Processing Record 43 of Set 3 | ambilobe\n",
      "Processing Record 44 of Set 3 | arcachon\n",
      "Processing Record 45 of Set 3 | abu kamal\n",
      "Processing Record 46 of Set 3 | gorno-chuyskiy\n",
      "City not found. Skipping...\n",
      "Processing Record 47 of Set 3 | mayumba\n",
      "Processing Record 48 of Set 3 | iqaluit\n",
      "Processing Record 49 of Set 3 | tiksi\n",
      "Processing Record 50 of Set 3 | awjilah\n",
      "Processing Record 1 of Set 4 | udachnyy\n",
      "Processing Record 2 of Set 4 | cidreira\n",
      "Processing Record 3 of Set 4 | kazalinsk\n",
      "City not found. Skipping...\n",
      "Processing Record 4 of Set 4 | faya\n",
      "Processing Record 5 of Set 4 | olafsvik\n",
      "Processing Record 6 of Set 4 | grand river south east\n",
      "City not found. Skipping...\n",
      "Processing Record 7 of Set 4 | lima\n",
      "Processing Record 8 of Set 4 | kamenskoye\n",
      "City not found. Skipping...\n",
      "Processing Record 9 of Set 4 | christchurch\n",
      "Processing Record 10 of Set 4 | atar\n",
      "Processing Record 11 of Set 4 | hilo\n",
      "Processing Record 12 of Set 4 | nova olinda do norte\n",
      "Processing Record 13 of Set 4 | evanston\n",
      "Processing Record 14 of Set 4 | raudeberg\n",
      "Processing Record 15 of Set 4 | klaksvik\n",
      "Processing Record 16 of Set 4 | lavrentiya\n",
      "Processing Record 17 of Set 4 | pangnirtung\n",
      "Processing Record 18 of Set 4 | iquitos\n",
      "Processing Record 19 of Set 4 | palu\n",
      "Processing Record 20 of Set 4 | andenes\n",
      "Processing Record 21 of Set 4 | bayshore gardens\n",
      "Processing Record 22 of Set 4 | strezhevoy\n",
      "Processing Record 23 of Set 4 | sur\n",
      "Processing Record 24 of Set 4 | mrirt\n",
      "City not found. Skipping...\n",
      "Processing Record 25 of Set 4 | fernley\n",
      "Processing Record 26 of Set 4 | khomeynishahr\n",
      "City not found. Skipping...\n",
      "Processing Record 27 of Set 4 | sorvag\n",
      "City not found. Skipping...\n",
      "Processing Record 28 of Set 4 | ouadda\n",
      "Processing Record 29 of Set 4 | hokitika\n",
      "Processing Record 30 of Set 4 | kapaa\n",
      "Processing Record 31 of Set 4 | innisfail\n",
      "Processing Record 32 of Set 4 | naze\n",
      "Processing Record 33 of Set 4 | tahoua\n",
      "Processing Record 34 of Set 4 | pozo colorado\n",
      "Processing Record 35 of Set 4 | watertown\n",
      "Processing Record 36 of Set 4 | hasaki\n",
      "Processing Record 37 of Set 4 | byron bay\n",
      "Processing Record 38 of Set 4 | tautira\n",
      "Processing Record 39 of Set 4 | south venice\n"
     ]
    },
    {
     "name": "stdout",
     "output_type": "stream",
     "text": [
      "Processing Record 40 of Set 4 | saint george\n",
      "Processing Record 41 of Set 4 | cabreuva\n",
      "Processing Record 42 of Set 4 | pumiao\n",
      "Processing Record 43 of Set 4 | terney\n",
      "Processing Record 44 of Set 4 | loandjili\n",
      "Processing Record 45 of Set 4 | kawalu\n",
      "Processing Record 46 of Set 4 | mount gambier\n",
      "Processing Record 47 of Set 4 | luderitz\n",
      "Processing Record 48 of Set 4 | honningsvag\n",
      "Processing Record 49 of Set 4 | balkanabat\n",
      "Processing Record 50 of Set 4 | utamysh\n",
      "Processing Record 1 of Set 5 | ilulissat\n",
      "Processing Record 2 of Set 5 | sioux lookout\n",
      "Processing Record 3 of Set 5 | umm lajj\n",
      "Processing Record 4 of Set 5 | gamba\n",
      "Processing Record 5 of Set 5 | okato\n",
      "Processing Record 6 of Set 5 | llata\n",
      "Processing Record 7 of Set 5 | leningradskiy\n",
      "Processing Record 8 of Set 5 | ponta do sol\n",
      "Processing Record 9 of Set 5 | hualmay\n",
      "Processing Record 10 of Set 5 | sasina\n",
      "Processing Record 11 of Set 5 | masvingo\n",
      "Processing Record 12 of Set 5 | yuryevets\n",
      "Processing Record 13 of Set 5 | bredasdorp\n",
      "Processing Record 14 of Set 5 | tsihombe\n",
      "City not found. Skipping...\n",
      "Processing Record 15 of Set 5 | genhe\n",
      "Processing Record 16 of Set 5 | kayerkan\n",
      "Processing Record 17 of Set 5 | attawapiskat\n",
      "City not found. Skipping...\n",
      "Processing Record 18 of Set 5 | araouane\n",
      "Processing Record 19 of Set 5 | tayu\n",
      "Processing Record 20 of Set 5 | santa maria\n",
      "Processing Record 21 of Set 5 | nagari\n",
      "Processing Record 22 of Set 5 | carnarvon\n",
      "Processing Record 23 of Set 5 | bajah\n",
      "Processing Record 24 of Set 5 | khonuu\n",
      "City not found. Skipping...\n",
      "Processing Record 25 of Set 5 | phon\n",
      "Processing Record 26 of Set 5 | sampit\n",
      "Processing Record 27 of Set 5 | siavonga\n",
      "Processing Record 28 of Set 5 | luena\n",
      "Processing Record 29 of Set 5 | ryotsu\n",
      "Processing Record 30 of Set 5 | veraval\n",
      "Processing Record 31 of Set 5 | acapulco\n",
      "Processing Record 32 of Set 5 | mogoytuy\n",
      "Processing Record 33 of Set 5 | fairbanks\n",
      "Processing Record 34 of Set 5 | saint-philippe\n",
      "Processing Record 35 of Set 5 | bismarck\n",
      "Processing Record 36 of Set 5 | aklavik\n",
      "Processing Record 37 of Set 5 | tubruq\n",
      "City not found. Skipping...\n",
      "Processing Record 38 of Set 5 | kavaratti\n",
      "Processing Record 39 of Set 5 | ypsonas\n",
      "Processing Record 40 of Set 5 | mount isa\n",
      "Processing Record 41 of Set 5 | waipawa\n",
      "Processing Record 42 of Set 5 | progreso\n",
      "Processing Record 43 of Set 5 | nador\n",
      "Processing Record 44 of Set 5 | egvekinot\n",
      "Processing Record 45 of Set 5 | alofi\n",
      "Processing Record 46 of Set 5 | mayo\n",
      "Processing Record 47 of Set 5 | la paz\n",
      "Processing Record 48 of Set 5 | sobolevo\n",
      "Processing Record 49 of Set 5 | pisco\n",
      "Processing Record 50 of Set 5 | tefe\n",
      "Processing Record 1 of Set 6 | coos bay\n",
      "Processing Record 2 of Set 6 | asau\n",
      "Processing Record 3 of Set 6 | east london\n",
      "Processing Record 4 of Set 6 | bethel\n",
      "Processing Record 5 of Set 6 | hendersonville\n",
      "Processing Record 6 of Set 6 | bajo baudo\n",
      "City not found. Skipping...\n",
      "Processing Record 7 of Set 6 | inuvik\n",
      "Processing Record 8 of Set 6 | marzuq\n",
      "Processing Record 9 of Set 6 | caravelas\n",
      "Processing Record 10 of Set 6 | saint-francois\n",
      "Processing Record 11 of Set 6 | taksimo\n",
      "Processing Record 12 of Set 6 | anlu\n",
      "Processing Record 13 of Set 6 | mingshui\n",
      "Processing Record 14 of Set 6 | chukhloma\n",
      "Processing Record 15 of Set 6 | tagusao\n",
      "Processing Record 16 of Set 6 | evensk\n",
      "Processing Record 17 of Set 6 | arlit\n",
      "Processing Record 18 of Set 6 | east wenatchee bench\n",
      "Processing Record 19 of Set 6 | fort saint john\n",
      "City not found. Skipping...\n",
      "Processing Record 20 of Set 6 | mergui\n",
      "City not found. Skipping...\n",
      "Processing Record 21 of Set 6 | godo\n",
      "Processing Record 22 of Set 6 | general roca\n",
      "Processing Record 23 of Set 6 | nuuk\n",
      "Processing Record 24 of Set 6 | idah\n",
      "Processing Record 25 of Set 6 | akom\n",
      "Processing Record 26 of Set 6 | abu dhabi\n",
      "Processing Record 27 of Set 6 | krasnofarfornyy\n",
      "Processing Record 28 of Set 6 | uniontown\n",
      "Processing Record 29 of Set 6 | batticaloa\n",
      "Processing Record 30 of Set 6 | tobermory\n",
      "Processing Record 31 of Set 6 | raduzhnyy\n",
      "Processing Record 32 of Set 6 | arraial do cabo\n",
      "Processing Record 33 of Set 6 | vaitupu\n",
      "City not found. Skipping...\n",
      "Processing Record 34 of Set 6 | wajima\n",
      "Processing Record 35 of Set 6 | hirara\n",
      "Processing Record 36 of Set 6 | saint-augustin\n",
      "Processing Record 37 of Set 6 | tak\n",
      "Processing Record 38 of Set 6 | hovd\n",
      "Processing Record 39 of Set 6 | awbari\n",
      "Processing Record 40 of Set 6 | teknaf\n",
      "Processing Record 41 of Set 6 | witu\n",
      "Processing Record 42 of Set 6 | porbandar\n",
      "Processing Record 43 of Set 6 | ranot\n",
      "Processing Record 44 of Set 6 | buon me thuot\n",
      "City not found. Skipping...\n",
      "Processing Record 45 of Set 6 | marrakesh\n",
      "Processing Record 46 of Set 6 | santa fe\n",
      "Processing Record 47 of Set 6 | nanakuli\n",
      "Processing Record 48 of Set 6 | tilichiki\n",
      "Processing Record 49 of Set 6 | fereydunshahr\n",
      "Processing Record 50 of Set 6 | shellbrook\n",
      "Processing Record 1 of Set 7 | carepa\n",
      "Processing Record 2 of Set 7 | waingapu\n",
      "Processing Record 3 of Set 7 | namtsy\n",
      "Processing Record 4 of Set 7 | kaeo\n",
      "Processing Record 5 of Set 7 | hithadhoo\n",
      "Processing Record 6 of Set 7 | stornoway\n",
      "Processing Record 7 of Set 7 | caucaia\n",
      "Processing Record 8 of Set 7 | berlevag\n",
      "Processing Record 9 of Set 7 | guerrero negro\n",
      "Processing Record 10 of Set 7 | tiassale\n",
      "Processing Record 11 of Set 7 | biak\n",
      "Processing Record 12 of Set 7 | lompoc\n",
      "Processing Record 13 of Set 7 | marechal candido rondon\n",
      "Processing Record 14 of Set 7 | sydney\n",
      "Processing Record 15 of Set 7 | varnamo\n",
      "Processing Record 16 of Set 7 | bocas del toro\n",
      "Processing Record 17 of Set 7 | ambon\n",
      "Processing Record 18 of Set 7 | aykhal\n",
      "Processing Record 19 of Set 7 | vostok\n",
      "Processing Record 20 of Set 7 | hobyo\n",
      "Processing Record 21 of Set 7 | ovsyanka\n",
      "Processing Record 22 of Set 7 | constitucion\n",
      "Processing Record 23 of Set 7 | nouadhibou\n",
      "Processing Record 24 of Set 7 | navashino\n",
      "Processing Record 25 of Set 7 | sault sainte marie\n",
      "Processing Record 26 of Set 7 | kalianget\n",
      "Processing Record 27 of Set 7 | sorsk\n",
      "Processing Record 28 of Set 7 | puerto madryn\n",
      "Processing Record 29 of Set 7 | poum\n",
      "Processing Record 30 of Set 7 | nurlat\n",
      "Processing Record 31 of Set 7 | miandrivazo\n",
      "Processing Record 32 of Set 7 | coihaique\n",
      "Processing Record 33 of Set 7 | pangoa\n",
      "Processing Record 34 of Set 7 | north bend\n",
      "Processing Record 35 of Set 7 | magione\n",
      "Processing Record 36 of Set 7 | fairlie\n",
      "Processing Record 37 of Set 7 | dhidhdhoo\n",
      "Processing Record 38 of Set 7 | yunjinghong\n",
      "City not found. Skipping...\n",
      "Processing Record 39 of Set 7 | panguna\n",
      "Processing Record 40 of Set 7 | havre-saint-pierre\n",
      "Processing Record 41 of Set 7 | moose factory\n",
      "Processing Record 42 of Set 7 | geraldton\n",
      "Processing Record 43 of Set 7 | spoleto\n",
      "Processing Record 44 of Set 7 | namatanai\n",
      "Processing Record 45 of Set 7 | chizhou\n",
      "Processing Record 46 of Set 7 | bathsheba\n",
      "Processing Record 47 of Set 7 | college\n",
      "Processing Record 48 of Set 7 | esna\n",
      "Processing Record 49 of Set 7 | saint anthony\n",
      "Processing Record 50 of Set 7 | severnyy\n",
      "Processing Record 1 of Set 8 | bilma\n",
      "Processing Record 2 of Set 8 | hofn\n",
      "Processing Record 3 of Set 8 | chapais\n",
      "Processing Record 4 of Set 8 | nguiu\n",
      "City not found. Skipping...\n",
      "Processing Record 5 of Set 8 | maniwaki\n",
      "Processing Record 6 of Set 8 | kloulklubed\n",
      "Processing Record 7 of Set 8 | grajau\n",
      "Processing Record 8 of Set 8 | cockburn town\n",
      "Processing Record 9 of Set 8 | ballina\n",
      "Processing Record 10 of Set 8 | buxar\n",
      "Processing Record 11 of Set 8 | arandis\n",
      "Processing Record 12 of Set 8 | tineo\n",
      "Processing Record 13 of Set 8 | barentsburg\n",
      "City not found. Skipping...\n",
      "Processing Record 14 of Set 8 | los llanos de aridane\n",
      "Processing Record 15 of Set 8 | lastoursville\n",
      "Processing Record 16 of Set 8 | tortoli\n",
      "Processing Record 17 of Set 8 | podosinovets\n",
      "Processing Record 18 of Set 8 | svetlaya\n",
      "Processing Record 19 of Set 8 | marsa matruh\n",
      "Processing Record 20 of Set 8 | linxia\n",
      "Processing Record 21 of Set 8 | marsabit\n",
      "Processing Record 22 of Set 8 | mastic beach\n",
      "Processing Record 23 of Set 8 | ndende\n",
      "Processing Record 24 of Set 8 | nago\n",
      "Processing Record 25 of Set 8 | codrington\n",
      "Processing Record 26 of Set 8 | murgab\n",
      "Processing Record 27 of Set 8 | kambove\n",
      "Processing Record 28 of Set 8 | tabora\n",
      "Processing Record 29 of Set 8 | bur gabo\n",
      "City not found. Skipping...\n",
      "Processing Record 30 of Set 8 | san policarpo\n",
      "Processing Record 31 of Set 8 | velikodvorskiy\n"
     ]
    },
    {
     "name": "stdout",
     "output_type": "stream",
     "text": [
      "Processing Record 32 of Set 8 | nata\n",
      "Processing Record 33 of Set 8 | kieta\n",
      "Processing Record 34 of Set 8 | pelym\n",
      "Processing Record 35 of Set 8 | novosheshminsk\n",
      "Processing Record 36 of Set 8 | aflu\n",
      "City not found. Skipping...\n",
      "Processing Record 37 of Set 8 | teya\n",
      "Processing Record 38 of Set 8 | porto santo\n",
      "Processing Record 39 of Set 8 | castelo do piaui\n",
      "Processing Record 40 of Set 8 | faanui\n",
      "Processing Record 41 of Set 8 | riberalta\n",
      "Processing Record 42 of Set 8 | bischofswerda\n",
      "Processing Record 43 of Set 8 | ulaangom\n",
      "Processing Record 44 of Set 8 | mae sai\n",
      "Processing Record 45 of Set 8 | pizarro\n",
      "Processing Record 46 of Set 8 | serdobsk\n",
      "Processing Record 47 of Set 8 | alberton\n",
      "Processing Record 48 of Set 8 | mandalgovi\n",
      "Processing Record 49 of Set 8 | matamoros\n",
      "Processing Record 50 of Set 8 | requena\n",
      "Processing Record 1 of Set 9 | nizhniy tsasuchey\n",
      "Processing Record 2 of Set 9 | nome\n",
      "Processing Record 3 of Set 9 | nakhon phanom\n",
      "Processing Record 4 of Set 9 | sigli\n",
      "Processing Record 5 of Set 9 | ossora\n",
      "Processing Record 6 of Set 9 | tshikapa\n",
      "Processing Record 7 of Set 9 | odweyne\n",
      "Processing Record 8 of Set 9 | ust-tsilma\n",
      "Processing Record 9 of Set 9 | torbat-e jam\n",
      "Processing Record 10 of Set 9 | sungai padi\n",
      "Processing Record 11 of Set 9 | krasnyy oktyabr\n",
      "Processing Record 12 of Set 9 | aksarka\n",
      "Processing Record 13 of Set 9 | eureka\n",
      "Processing Record 14 of Set 9 | esperance\n",
      "Processing Record 15 of Set 9 | bin qirdan\n",
      "Processing Record 16 of Set 9 | emba\n",
      "Processing Record 17 of Set 9 | thinadhoo\n",
      "Processing Record 18 of Set 9 | sambava\n",
      "Processing Record 19 of Set 9 | price\n",
      "Processing Record 20 of Set 9 | tucuman\n",
      "Processing Record 21 of Set 9 | mehran\n",
      "Processing Record 22 of Set 9 | yashkul\n",
      "Processing Record 23 of Set 9 | kirovohrad\n",
      "Processing Record 24 of Set 9 | caraballeda\n",
      "Processing Record 25 of Set 9 | slobozia\n",
      "Processing Record 26 of Set 9 | pochutla\n",
      "Processing Record 27 of Set 9 | tarudant\n",
      "City not found. Skipping...\n",
      "Processing Record 28 of Set 9 | vila do maio\n",
      "Processing Record 29 of Set 9 | beroroha\n",
      "Processing Record 30 of Set 9 | quesnel\n",
      "Processing Record 31 of Set 9 | barawe\n",
      "City not found. Skipping...\n",
      "Processing Record 32 of Set 9 | shamary\n",
      "Processing Record 33 of Set 9 | sao joao da barra\n",
      "Processing Record 34 of Set 9 | varadero\n",
      "Processing Record 35 of Set 9 | plesetsk\n",
      "Processing Record 36 of Set 9 | mindelo\n",
      "Processing Record 37 of Set 9 | cartagena\n",
      "Processing Record 38 of Set 9 | zeya\n",
      "Processing Record 39 of Set 9 | marathon\n",
      "Processing Record 40 of Set 9 | izumo\n",
      "Processing Record 41 of Set 9 | iberia\n",
      "Processing Record 42 of Set 9 | noyabrsk\n",
      "Processing Record 43 of Set 9 | lasa\n",
      "Processing Record 44 of Set 9 | toliary\n",
      "City not found. Skipping...\n",
      "Processing Record 45 of Set 9 | isla mujeres\n",
      "Processing Record 46 of Set 9 | bairiki\n",
      "Processing Record 47 of Set 9 | paamiut\n",
      "Processing Record 48 of Set 9 | anchorage\n",
      "Processing Record 49 of Set 9 | zhigansk\n",
      "Processing Record 50 of Set 9 | kamsack\n",
      "Processing Record 1 of Set 10 | ndola\n",
      "Processing Record 2 of Set 10 | touros\n",
      "Processing Record 3 of Set 10 | north myrtle beach\n",
      "Processing Record 4 of Set 10 | yerbogachen\n",
      "Processing Record 5 of Set 10 | necochea\n",
      "Processing Record 6 of Set 10 | norman wells\n",
      "Processing Record 7 of Set 10 | trapani\n",
      "Processing Record 8 of Set 10 | lulea\n",
      "Processing Record 9 of Set 10 | hailar\n",
      "Processing Record 10 of Set 10 | asosa\n",
      "Processing Record 11 of Set 10 | pandamatenga\n",
      "Processing Record 12 of Set 10 | praia da vitoria\n",
      "Processing Record 13 of Set 10 | sidoarjo\n",
      "Processing Record 14 of Set 10 | karamay\n",
      "City not found. Skipping...\n",
      "Processing Record 15 of Set 10 | payo\n",
      "Processing Record 16 of Set 10 | kavieng\n",
      "Processing Record 17 of Set 10 | troitskoye\n",
      "Processing Record 18 of Set 10 | zyryanka\n",
      "Processing Record 19 of Set 10 | reconquista\n",
      "Processing Record 20 of Set 10 | altay\n",
      "Processing Record 21 of Set 10 | khor\n",
      "Processing Record 22 of Set 10 | patea\n",
      "Processing Record 23 of Set 10 | lagoa\n",
      "Processing Record 24 of Set 10 | villa maria\n",
      "Processing Record 25 of Set 10 | zhenhai\n",
      "Processing Record 26 of Set 10 | karkaralinsk\n",
      "City not found. Skipping...\n",
      "Processing Record 27 of Set 10 | arawa\n",
      "Processing Record 28 of Set 10 | samusu\n",
      "City not found. Skipping...\n",
      "Processing Record 29 of Set 10 | haverfordwest\n",
      "Processing Record 30 of Set 10 | antsohihy\n",
      "Processing Record 31 of Set 10 | tolmachevo\n",
      "Processing Record 32 of Set 10 | lephepe\n",
      "City not found. Skipping...\n",
      "Processing Record 33 of Set 10 | bima\n",
      "Processing Record 34 of Set 10 | tuatapere\n",
      "Processing Record 35 of Set 10 | honiara\n",
      "Processing Record 36 of Set 10 | petoa\n",
      "Processing Record 37 of Set 10 | port hedland\n",
      "Processing Record 38 of Set 10 | jabiru\n",
      "City not found. Skipping...\n",
      "Processing Record 39 of Set 10 | manggar\n",
      "Processing Record 40 of Set 10 | bereda\n",
      "Processing Record 41 of Set 10 | niono\n",
      "Processing Record 42 of Set 10 | terra santa\n",
      "Processing Record 43 of Set 10 | blagoyevo\n",
      "Processing Record 44 of Set 10 | colac\n",
      "Processing Record 45 of Set 10 | viedma\n",
      "Processing Record 46 of Set 10 | neijiang\n",
      "Processing Record 47 of Set 10 | sisimiut\n",
      "Processing Record 48 of Set 10 | camacha\n",
      "Processing Record 49 of Set 10 | motala\n",
      "Processing Record 50 of Set 10 | marsh harbour\n",
      "Processing Record 1 of Set 11 | kitimat\n",
      "Processing Record 2 of Set 11 | rocha\n",
      "Processing Record 3 of Set 11 | kushima\n",
      "Processing Record 4 of Set 11 | portland\n",
      "Processing Record 5 of Set 11 | buta\n",
      "Processing Record 6 of Set 11 | tsiroanomandidy\n",
      "Processing Record 7 of Set 11 | port hardy\n",
      "Processing Record 8 of Set 11 | chumikan\n",
      "Processing Record 9 of Set 11 | seddon\n",
      "Processing Record 10 of Set 11 | primorsk\n",
      "Processing Record 11 of Set 11 | sayyan\n",
      "Processing Record 12 of Set 11 | saleaula\n",
      "City not found. Skipping...\n",
      "Processing Record 13 of Set 11 | ahipara\n",
      "Processing Record 14 of Set 11 | padang\n",
      "Processing Record 15 of Set 11 | kaniama\n",
      "Processing Record 16 of Set 11 | vanersborg\n",
      "Processing Record 17 of Set 11 | grindavik\n",
      "Processing Record 18 of Set 11 | cayenne\n",
      "Processing Record 19 of Set 11 | kaduqli\n",
      "Processing Record 20 of Set 11 | clyde river\n",
      "Processing Record 21 of Set 11 | tarabha\n",
      "Processing Record 22 of Set 11 | tumannyy\n",
      "City not found. Skipping...\n",
      "Processing Record 23 of Set 11 | yirol\n",
      "City not found. Skipping...\n",
      "Processing Record 24 of Set 11 | taywarah\n",
      "Processing Record 25 of Set 11 | fort nelson\n",
      "Processing Record 26 of Set 11 | bonavista\n",
      "Processing Record 27 of Set 11 | karaul\n",
      "City not found. Skipping...\n",
      "Processing Record 28 of Set 11 | inzer\n",
      "Processing Record 29 of Set 11 | talnakh\n",
      "Processing Record 30 of Set 11 | alyangula\n",
      "Processing Record 31 of Set 11 | fevralsk\n",
      "City not found. Skipping...\n",
      "Processing Record 32 of Set 11 | guayaramerin\n",
      "Processing Record 33 of Set 11 | dekar\n",
      "Processing Record 34 of Set 11 | livingstonia\n",
      "Processing Record 35 of Set 11 | nalut\n",
      "Processing Record 36 of Set 11 | la ronge\n",
      "Processing Record 37 of Set 11 | ljungby\n",
      "Processing Record 38 of Set 11 | warqla\n",
      "City not found. Skipping...\n",
      "Processing Record 39 of Set 11 | mahibadhoo\n",
      "Processing Record 40 of Set 11 | samarai\n",
      "Processing Record 41 of Set 11 | dunedin\n",
      "Processing Record 42 of Set 11 | omboue\n",
      "Processing Record 43 of Set 11 | zyryanovsk\n",
      "Processing Record 44 of Set 11 | oparino\n",
      "Processing Record 45 of Set 11 | agutaya\n",
      "Processing Record 46 of Set 11 | ngunguru\n",
      "Processing Record 47 of Set 11 | charters towers\n",
      "Processing Record 48 of Set 11 | soyo\n",
      "Processing Record 49 of Set 11 | abalak\n",
      "Processing Record 50 of Set 11 | tomatlan\n",
      "Processing Record 1 of Set 12 | bam\n",
      "Processing Record 2 of Set 12 | san cristobal\n",
      "Processing Record 3 of Set 12 | juneau\n",
      "Processing Record 4 of Set 12 | kaithal\n",
      "Processing Record 5 of Set 12 | tripoli\n",
      "Processing Record 6 of Set 12 | nurota\n",
      "Processing Record 7 of Set 12 | kathmandu\n",
      "Processing Record 8 of Set 12 | iwamizawa\n",
      "Processing Record 9 of Set 12 | bandarbeyla\n",
      "Processing Record 10 of Set 12 | nyakahanga\n",
      "Processing Record 11 of Set 12 | gioia tauro\n",
      "Processing Record 12 of Set 12 | upernavik\n",
      "Processing Record 13 of Set 12 | ukiah\n",
      "Processing Record 14 of Set 12 | talaya\n",
      "Processing Record 15 of Set 12 | moron\n",
      "Processing Record 16 of Set 12 | bontang\n",
      "Processing Record 17 of Set 12 | avera\n",
      "Processing Record 18 of Set 12 | ihosy\n",
      "Processing Record 19 of Set 12 | havelock\n",
      "Processing Record 20 of Set 12 | petrokamenskoye\n"
     ]
    },
    {
     "name": "stdout",
     "output_type": "stream",
     "text": [
      "Processing Record 21 of Set 12 | sorland\n",
      "Processing Record 22 of Set 12 | seydisehir\n",
      "Processing Record 23 of Set 12 | gbadolite\n",
      "Processing Record 24 of Set 12 | akonolinga\n",
      "Processing Record 25 of Set 12 | ostrovnoy\n",
      "Processing Record 26 of Set 12 | lata\n",
      "Processing Record 27 of Set 12 | voh\n",
      "Processing Record 28 of Set 12 | qandala\n",
      "Processing Record 29 of Set 12 | auki\n",
      "Processing Record 30 of Set 12 | cosala\n",
      "Processing Record 31 of Set 12 | barguzin\n",
      "Processing Record 32 of Set 12 | barra do garcas\n",
      "Processing Record 33 of Set 12 | opuwo\n",
      "Processing Record 34 of Set 12 | dubenskiy\n",
      "City not found. Skipping...\n",
      "Processing Record 35 of Set 12 | parfino\n",
      "Processing Record 36 of Set 12 | shingu\n",
      "Processing Record 37 of Set 12 | vagur\n",
      "Processing Record 38 of Set 12 | grand-santi\n",
      "Processing Record 39 of Set 12 | znamenka\n",
      "Processing Record 40 of Set 12 | inirida\n",
      "Processing Record 41 of Set 12 | jibuti\n",
      "Processing Record 42 of Set 12 | lazi\n",
      "Processing Record 43 of Set 12 | bella vista\n",
      "Processing Record 44 of Set 12 | teahupoo\n",
      "Processing Record 45 of Set 12 | hunza\n",
      "City not found. Skipping...\n",
      "Processing Record 46 of Set 12 | dwarka\n",
      "Processing Record 47 of Set 12 | mugur-aksy\n",
      "Processing Record 48 of Set 12 | sungairaya\n",
      "Processing Record 49 of Set 12 | noumea\n",
      "Processing Record 50 of Set 12 | laguna\n",
      "Processing Record 1 of Set 13 | gayny\n",
      "Processing Record 2 of Set 13 | cedral\n",
      "Processing Record 3 of Set 13 | astoria\n",
      "Processing Record 4 of Set 13 | posse\n",
      "Processing Record 5 of Set 13 | sedniv\n",
      "Data Retrieval Complete\n"
     ]
    }
   ],
   "source": [
    "# Create a base url\n",
    "base_url = \"http://api.openweathermap.org/data/2.5/weather?units=imperial&appid=\" + weather_api_key\n",
    "\n",
    "# Counters\n",
    "city_counter = 1\n",
    "set_counter = 1\n",
    "\n",
    "# Create the lists to hold relative data\n",
    "cities_list= []\n",
    "cloudiness = []\n",
    "country = []\n",
    "date = []\n",
    "humidity = []\n",
    "lat = []\n",
    "lng = []\n",
    "max_temp = []\n",
    "wind_speed = []\n",
    "\n",
    "print(\"Begin Data Retrieval\")\n",
    "\n",
    "# Create a query url for each city in the cities list to get json response\n",
    "for i, city in enumerate(cities):\n",
    "    \n",
    "    # Group cities as sets of 50s\n",
    "    if (i % 50 == 0 and i >= 50):\n",
    "        set_counter += 1\n",
    "        city_counter = 1\n",
    "         \n",
    "    # Create API url for each city\n",
    "    query_url = base_url +\"&q=\" + city\n",
    "    \n",
    "    # Get json respose for each city\n",
    "    response = requests.get(query_url).json()\n",
    "    \n",
    "    # Print the results \n",
    "    print(f\"Processing Record {city_counter} of Set {set_counter} | {city}\")\n",
    "    \n",
    "    # Increase city counter\n",
    "    city_counter += 1\n",
    "    \n",
    "   # Add the values to the lists\n",
    "    try:       \n",
    "        cloudiness.append(response[\"clouds\"][\"all\"])\n",
    "        country.append(response[\"sys\"][\"country\"])\n",
    "        date.append(response[\"dt\"])\n",
    "        humidity.append(response[\"main\"][\"humidity\"])\n",
    "        lat.append(response[\"coord\"][\"lat\"])\n",
    "        lng.append(response[\"coord\"][\"lon\"])\n",
    "        max_temp.append(response[\"main\"][\"temp_max\"])\n",
    "        wind_speed.append(response[\"wind\"][\"speed\"])\n",
    "        cities_list.append(response[\"name\"])\n",
    "    except:\n",
    "        print(\"City not found. Skipping...\")\n",
    "        pass\n",
    "        \n",
    "print(\"Data Retrieval Complete\")"
   ]
  },
  {
   "cell_type": "markdown",
   "metadata": {},
   "source": [
    "### Convert Raw Data to DataFrame\n",
    "* Export the city data into a .csv.\n",
    "* Display the DataFrame"
   ]
  },
  {
   "cell_type": "code",
   "execution_count": 4,
   "metadata": {},
   "outputs": [
    {
     "data": {
      "text/plain": [
       "City          558\n",
       "Cloudiness    558\n",
       "Country       558\n",
       "Date          558\n",
       "Humidity      558\n",
       "Lat           558\n",
       "Lng           558\n",
       "Max Temp      558\n",
       "Wind Speed    558\n",
       "dtype: int64"
      ]
     },
     "execution_count": 4,
     "metadata": {},
     "output_type": "execute_result"
    }
   ],
   "source": [
    "# Create a dictionary to keep data \n",
    "weather_data = {\n",
    "     \"City\": cities_list,\n",
    "     \"Cloudiness\": cloudiness,\n",
    "     \"Country\": country,\n",
    "     \"Date\": date,\n",
    "     \"Humidity\": humidity,\n",
    "     \"Lat\": lat,\n",
    "     \"Lng\": lng,\n",
    "     \"Max Temp\": max_temp,\n",
    "     \"Wind Speed\": wind_speed    \n",
    " }\n",
    "\n",
    "# Create the data frame and count variables for each columns\n",
    "weather_df = pd.DataFrame(weather_data)\n",
    "weather_df.count()"
   ]
  },
  {
   "cell_type": "code",
   "execution_count": 6,
   "metadata": {},
   "outputs": [
    {
     "data": {
      "text/html": [
       "<div>\n",
       "<style scoped>\n",
       "    .dataframe tbody tr th:only-of-type {\n",
       "        vertical-align: middle;\n",
       "    }\n",
       "\n",
       "    .dataframe tbody tr th {\n",
       "        vertical-align: top;\n",
       "    }\n",
       "\n",
       "    .dataframe thead th {\n",
       "        text-align: right;\n",
       "    }\n",
       "</style>\n",
       "<table border=\"1\" class=\"dataframe\">\n",
       "  <thead>\n",
       "    <tr style=\"text-align: right;\">\n",
       "      <th></th>\n",
       "      <th>City</th>\n",
       "      <th>Cloudiness</th>\n",
       "      <th>Country</th>\n",
       "      <th>Date</th>\n",
       "      <th>Humidity</th>\n",
       "      <th>Lat</th>\n",
       "      <th>Lng</th>\n",
       "      <th>Max Temp</th>\n",
       "      <th>Wind Speed</th>\n",
       "    </tr>\n",
       "  </thead>\n",
       "  <tbody>\n",
       "    <tr>\n",
       "      <th>0</th>\n",
       "      <td>Kumul</td>\n",
       "      <td>45</td>\n",
       "      <td>CN</td>\n",
       "      <td>1611605200</td>\n",
       "      <td>73</td>\n",
       "      <td>42.8000</td>\n",
       "      <td>93.4500</td>\n",
       "      <td>15.64</td>\n",
       "      <td>1.36</td>\n",
       "    </tr>\n",
       "    <tr>\n",
       "      <th>1</th>\n",
       "      <td>Hong Kong</td>\n",
       "      <td>1</td>\n",
       "      <td>HK</td>\n",
       "      <td>1611605112</td>\n",
       "      <td>86</td>\n",
       "      <td>22.2855</td>\n",
       "      <td>114.1577</td>\n",
       "      <td>64.99</td>\n",
       "      <td>1.99</td>\n",
       "    </tr>\n",
       "    <tr>\n",
       "      <th>2</th>\n",
       "      <td>Hobart</td>\n",
       "      <td>75</td>\n",
       "      <td>AU</td>\n",
       "      <td>1611605201</td>\n",
       "      <td>94</td>\n",
       "      <td>-42.8794</td>\n",
       "      <td>147.3294</td>\n",
       "      <td>62.01</td>\n",
       "      <td>6.91</td>\n",
       "    </tr>\n",
       "    <tr>\n",
       "      <th>3</th>\n",
       "      <td>Hamilton</td>\n",
       "      <td>90</td>\n",
       "      <td>US</td>\n",
       "      <td>1611604715</td>\n",
       "      <td>86</td>\n",
       "      <td>39.1834</td>\n",
       "      <td>-84.5333</td>\n",
       "      <td>33.80</td>\n",
       "      <td>9.22</td>\n",
       "    </tr>\n",
       "    <tr>\n",
       "      <th>4</th>\n",
       "      <td>Butaritari</td>\n",
       "      <td>94</td>\n",
       "      <td>KI</td>\n",
       "      <td>1611605201</td>\n",
       "      <td>79</td>\n",
       "      <td>3.0707</td>\n",
       "      <td>172.7902</td>\n",
       "      <td>79.14</td>\n",
       "      <td>10.00</td>\n",
       "    </tr>\n",
       "  </tbody>\n",
       "</table>\n",
       "</div>"
      ],
      "text/plain": [
       "         City  Cloudiness Country        Date  Humidity      Lat       Lng  \\\n",
       "0       Kumul          45      CN  1611605200        73  42.8000   93.4500   \n",
       "1   Hong Kong           1      HK  1611605112        86  22.2855  114.1577   \n",
       "2      Hobart          75      AU  1611605201        94 -42.8794  147.3294   \n",
       "3    Hamilton          90      US  1611604715        86  39.1834  -84.5333   \n",
       "4  Butaritari          94      KI  1611605201        79   3.0707  172.7902   \n",
       "\n",
       "   Max Temp  Wind Speed  \n",
       "0     15.64        1.36  \n",
       "1     64.99        1.99  \n",
       "2     62.01        6.91  \n",
       "3     33.80        9.22  \n",
       "4     79.14       10.00  "
      ]
     },
     "execution_count": 6,
     "metadata": {},
     "output_type": "execute_result"
    }
   ],
   "source": [
    "# Display the data frame\n",
    "weather_df.head()"
   ]
  },
  {
   "cell_type": "code",
   "execution_count": 34,
   "metadata": {},
   "outputs": [
    {
     "data": {
      "text/plain": [
       "558"
      ]
     },
     "execution_count": 34,
     "metadata": {},
     "output_type": "execute_result"
    }
   ],
   "source": [
    "#export to csv file \n",
    "\n",
    "weather_df.to_csv(\"weather_data.csv\")\n",
    "countforme=len(weather_df)\n",
    "countforme"
   ]
  },
  {
   "cell_type": "code",
   "execution_count": 35,
   "metadata": {},
   "outputs": [
    {
     "data": {
      "text/plain": [
       "City           object\n",
       "Cloudiness      int64\n",
       "Country        object\n",
       "Date            int64\n",
       "Humidity        int64\n",
       "Lat           float64\n",
       "Lng           float64\n",
       "Max Temp      float64\n",
       "Wind Speed    float64\n",
       "dtype: object"
      ]
     },
     "execution_count": 35,
     "metadata": {},
     "output_type": "execute_result"
    }
   ],
   "source": [
    "weather_df.dtypes"
   ]
  },
  {
   "cell_type": "markdown",
   "metadata": {},
   "source": [
    "## Plotting the Data\n",
    "* Use proper labeling of the plots using plot titles (including date of analysis) and axes labels.\n",
    "* Save the plotted figures as .pngs."
   ]
  },
  {
   "cell_type": "markdown",
   "metadata": {},
   "source": [
    "## Latitude vs. Temperature Plot"
   ]
  },
  {
   "cell_type": "raw",
   "metadata": {},
   "source": [
    "# This plot is looking at the relationship between latitude and temperature. It shows that as you aprroach the equator (latitude 0) the temperature gets hotter"
   ]
  },
  {
   "cell_type": "code",
   "execution_count": 31,
   "metadata": {
    "scrolled": false
   },
   "outputs": [
    {
     "data": {
      "image/png": "[encoded data removed]",
      "text/plain": [
       "<Figure size 432x288 with 1 Axes>"
      ]
     },
     "metadata": {
      "needs_background": "light"
     },
     "output_type": "display_data"
    }
   ],
   "source": [
    "scatlat=weather_df['Lat']\n",
    "scattemp=weather_df['Max Temp']\n",
    "\n",
    "\n",
    "plt.scatter(scatlat,scattemp,marker='o',edgecolors='black')\n",
    "plt.title(f\"City Latitude vs. Max Temperature\")\n",
    "plt.xlabel('Latitude')\n",
    "plt.ylabel('Max Temperature (F)')\n",
    "plt.grid(True)\n",
    "\n",
    "plt.savefig(\"LatvsTemp.png\")\n",
    "plt.show()\n"
   ]
  },
  {
   "cell_type": "markdown",
   "metadata": {},
   "source": [
    "## Latitude vs. Humidity Plot"
   ]
  },
  {
   "cell_type": "markdown",
   "metadata": {},
   "source": [
    "This plot is looking at the relationship between latitude and humidity. It shows that there is not much of a correlation between latitude and humidity."
   ]
  },
  {
   "cell_type": "code",
   "execution_count": 36,
   "metadata": {},
   "outputs": [
    {
     "data": {
      "image/png": "[encoded data removed]",
      "text/plain": [
       "<Figure size 432x288 with 1 Axes>"
      ]
     },
     "metadata": {
      "needs_background": "light"
     },
     "output_type": "display_data"
    }
   ],
   "source": [
    "scathum = weather_df['Humidity']\n",
    "scatlat=weather_df['Lat']\n",
    "\n",
    "plt.scatter(scatlat,scathum,marker='o',edgecolors='black')\n",
    "plt.title('City Latitude vs. Humidity')\n",
    "plt.xlabel('Latitude')\n",
    "plt.ylabel('Humidity (%)')\n",
    "plt.grid(True)\n",
    "\n",
    "plt.savefig(\"LatvsHumidity.png\")\n",
    "plt.show()"
   ]
  },
  {
   "cell_type": "markdown",
   "metadata": {},
   "source": [
    "## Latitude vs. Cloudiness Plot"
   ]
  },
  {
   "cell_type": "markdown",
   "metadata": {},
   "source": [
    "This plot is looking at the relationship between latitude and cloudiness. This also shows that there does not seem to be much of a correlation between latitude and cloudiness."
   ]
  },
  {
   "cell_type": "code",
   "execution_count": 37,
   "metadata": {},
   "outputs": [
    {
     "data": {
      "image/png": "[encoded data removed]",
      "text/plain": [
       "<Figure size 432x288 with 1 Axes>"
      ]
     },
     "metadata": {
      "needs_background": "light"
     },
     "output_type": "display_data"
    }
   ],
   "source": [
    "scatcloud = weather_df[\"Cloudiness\"]\n",
    "scatlat=weather_df['Lat']\n",
    "\n",
    "plt.scatter(scatlat,scatcloud,marker='o',edgecolors='black')\n",
    "plt.title('City Latitude vs. Cloudiness')\n",
    "plt.xlabel('Latitude')\n",
    "plt.ylabel('Cloudiness (%)')\n",
    "plt.grid(True)\n",
    "\n",
    "plt.savefig(\"LatvsCloudiness.png\")\n",
    "plt.show()"
   ]
  },
  {
   "cell_type": "markdown",
   "metadata": {},
   "source": [
    "## Latitude vs. Wind Speed Plot"
   ]
  },
  {
   "cell_type": "markdown",
   "metadata": {},
   "source": [
    "This plot is looking at the relationship between latitude and wind speed. It shows that wind speeds are generally greater the farther away from the equator (latitude 0) you get."
   ]
  },
  {
   "cell_type": "code",
   "execution_count": 49,
   "metadata": {
    "scrolled": true
   },
   "outputs": [
    {
     "data": {
      "image/png": "[encoded data removed]",
      "text/plain": [
       "<Figure size 432x288 with 1 Axes>"
      ]
     },
     "metadata": {
      "needs_background": "light"
     },
     "output_type": "display_data"
    }
   ],
   "source": [
    "scatwindspeed = weather_df[\"Wind Speed\"]\n",
    "scatlat=weather_df['Lat']\n",
    "\n",
    "plt.scatter(scatlat,scatwindspeed,marker='o',edgecolors='black')\n",
    "plt.title('City Latitude vs. Wind Speed')\n",
    "plt.xlabel('Latitude')\n",
    "plt.ylabel('Wind Speed (mph)')\n",
    "plt.grid(True)\n",
    "\n",
    "plt.savefig(\"LatvsWindspeed.png\")\n",
    "plt.show()"
   ]
  },
  {
   "cell_type": "markdown",
   "metadata": {},
   "source": [
    "## Linear Regression"
   ]
  },
  {
   "cell_type": "code",
   "execution_count": 67,
   "metadata": {},
   "outputs": [],
   "source": [
    "def plot_linear_regression(x_values, y_values, title, text_coordinates):\n",
    "    (slope, intercept, rvalue, pvalue, stderr) = linregress(x_values, y_values)\n",
    "    regress_values = x_values * slope + intercept\n",
    "    line_eq = \"y = \" + str(round(slope,2)) + \"x + \" + str(round(intercept,2))\n",
    "    \n",
    "    plt.scatter(x_values,y_values)\n",
    "    plt.plot(x_values,regress_values,\"r-\")\n",
    "    plt.annotate(line_eq,text_coordinates,fontsize=14,color=\"red\")\n",
    "    plt.xlabel(\"Latitude\")\n",
    "    plt.ylabel(title)\n",
    "    print(f\"The r-squared is: {rvalue}\")\n",
    "    plt.show()"
   ]
  },
  {
   "cell_type": "code",
   "execution_count": 68,
   "metadata": {},
   "outputs": [
    {
     "data": {
      "text/html": [
       "<div>\n",
       "<style scoped>\n",
       "    .dataframe tbody tr th:only-of-type {\n",
       "        vertical-align: middle;\n",
       "    }\n",
       "\n",
       "    .dataframe tbody tr th {\n",
       "        vertical-align: top;\n",
       "    }\n",
       "\n",
       "    .dataframe thead th {\n",
       "        text-align: right;\n",
       "    }\n",
       "</style>\n",
       "<table border=\"1\" class=\"dataframe\">\n",
       "  <thead>\n",
       "    <tr style=\"text-align: right;\">\n",
       "      <th></th>\n",
       "      <th>City</th>\n",
       "      <th>Cloudiness</th>\n",
       "      <th>Country</th>\n",
       "      <th>Date</th>\n",
       "      <th>Humidity</th>\n",
       "      <th>Lat</th>\n",
       "      <th>Lng</th>\n",
       "      <th>Max Temp</th>\n",
       "      <th>Wind Speed</th>\n",
       "    </tr>\n",
       "  </thead>\n",
       "  <tbody>\n",
       "    <tr>\n",
       "      <th>0</th>\n",
       "      <td>Kumul</td>\n",
       "      <td>45</td>\n",
       "      <td>CN</td>\n",
       "      <td>1611605200</td>\n",
       "      <td>73</td>\n",
       "      <td>42.8000</td>\n",
       "      <td>93.4500</td>\n",
       "      <td>15.64</td>\n",
       "      <td>1.36</td>\n",
       "    </tr>\n",
       "    <tr>\n",
       "      <th>1</th>\n",
       "      <td>Hong Kong</td>\n",
       "      <td>1</td>\n",
       "      <td>HK</td>\n",
       "      <td>1611605112</td>\n",
       "      <td>86</td>\n",
       "      <td>22.2855</td>\n",
       "      <td>114.1577</td>\n",
       "      <td>64.99</td>\n",
       "      <td>1.99</td>\n",
       "    </tr>\n",
       "    <tr>\n",
       "      <th>3</th>\n",
       "      <td>Hamilton</td>\n",
       "      <td>90</td>\n",
       "      <td>US</td>\n",
       "      <td>1611604715</td>\n",
       "      <td>86</td>\n",
       "      <td>39.1834</td>\n",
       "      <td>-84.5333</td>\n",
       "      <td>33.80</td>\n",
       "      <td>9.22</td>\n",
       "    </tr>\n",
       "    <tr>\n",
       "      <th>4</th>\n",
       "      <td>Butaritari</td>\n",
       "      <td>94</td>\n",
       "      <td>KI</td>\n",
       "      <td>1611605201</td>\n",
       "      <td>79</td>\n",
       "      <td>3.0707</td>\n",
       "      <td>172.7902</td>\n",
       "      <td>79.14</td>\n",
       "      <td>10.00</td>\n",
       "    </tr>\n",
       "    <tr>\n",
       "      <th>5</th>\n",
       "      <td>Ardakān</td>\n",
       "      <td>0</td>\n",
       "      <td>IR</td>\n",
       "      <td>1611605201</td>\n",
       "      <td>22</td>\n",
       "      <td>32.3100</td>\n",
       "      <td>54.0175</td>\n",
       "      <td>39.20</td>\n",
       "      <td>2.30</td>\n",
       "    </tr>\n",
       "  </tbody>\n",
       "</table>\n",
       "</div>"
      ],
      "text/plain": [
       "         City  Cloudiness Country        Date  Humidity      Lat       Lng  \\\n",
       "0       Kumul          45      CN  1611605200        73  42.8000   93.4500   \n",
       "1   Hong Kong           1      HK  1611605112        86  22.2855  114.1577   \n",
       "3    Hamilton          90      US  1611604715        86  39.1834  -84.5333   \n",
       "4  Butaritari          94      KI  1611605201        79   3.0707  172.7902   \n",
       "5     Ardakān           0      IR  1611605201        22  32.3100   54.0175   \n",
       "\n",
       "   Max Temp  Wind Speed  \n",
       "0     15.64        1.36  \n",
       "1     64.99        1.99  \n",
       "3     33.80        9.22  \n",
       "4     79.14       10.00  \n",
       "5     39.20        2.30  "
      ]
     },
     "execution_count": 68,
     "metadata": {},
     "output_type": "execute_result"
    }
   ],
   "source": [
    "#create Northern and Southern Hemisphere DataFrames\n",
    "\n",
    "north_hem=weather_df.loc[weather_df['Lat']>=0,:]\n",
    "south_hem=weather_df.loc[weather_df['Lat']<0,:]\n",
    "north_hem.head()"
   ]
  },
  {
   "cell_type": "markdown",
   "metadata": {},
   "source": [
    "####  Northern Hemisphere - Max Temp vs. Latitude Linear Regression"
   ]
  },
  {
   "cell_type": "code",
   "execution_count": 70,
   "metadata": {},
   "outputs": [
    {
     "name": "stdout",
     "output_type": "stream",
     "text": [
      "The r-squared is: -0.8375262109878066\n"
     ]
    },
    {
     "data": {
      "image/png": "[encoded data removed]",
      "text/plain": [
       "<Figure size 432x288 with 1 Axes>"
      ]
     },
     "metadata": {
      "needs_background": "light"
     },
     "output_type": "display_data"
    },
    {
     "data": {
      "text/plain": [
       "<Figure size 432x288 with 0 Axes>"
      ]
     },
     "metadata": {},
     "output_type": "display_data"
    }
   ],
   "source": [
    "x_values = north_hem[\"Lat\"]\n",
    "y_values = north_hem[\"Max Temp\"]\n",
    "plot_linear_regression(x_values,y_values,'Max Temp',(6,30))\n",
    "\n",
    "plt.savefig(\"Northhempisphere.png\")"
   ]
  },
  {
   "cell_type": "code",
   "execution_count": null,
   "metadata": {},
   "outputs": [],
   "source": []
  },
  {
   "cell_type": "markdown",
   "metadata": {},
   "source": [
    "####  Southern Hemisphere - Max Temp vs. Latitude Linear Regression"
   ]
  },
  {
   "cell_type": "code",
   "execution_count": 72,
   "metadata": {},
   "outputs": [
    {
     "name": "stdout",
     "output_type": "stream",
     "text": [
      "The r-squared is: 0.337610490634773\n"
     ]
    },
    {
     "data": {
      "image/png": "[encoded data removed]",
      "text/plain": [
       "<Figure size 432x288 with 1 Axes>"
      ]
     },
     "metadata": {
      "needs_background": "light"
     },
     "output_type": "display_data"
    },
    {
     "name": "stdout",
     "output_type": "stream",
     "text": [
      "The high r value indicates a strong positive correlation between latitude and max temperature.\n"
     ]
    },
    {
     "data": {
      "text/plain": [
       "<Figure size 432x288 with 0 Axes>"
      ]
     },
     "metadata": {},
     "output_type": "display_data"
    }
   ],
   "source": [
    "x_values = south_hem[\"Lat\"]\n",
    "y_values = south_hem[\"Max Temp\"]\n",
    "plot_linear_regression(x_values,y_values,'Max Temp',(6,30))\n",
    "\n",
    "plt.savefig(\"Southhemisphere.png\")\n",
    "\n",
    "print(\"The high r value indicates a strong positive correlation between latitude and max temperature.\")\n"
   ]
  },
  {
   "cell_type": "code",
   "execution_count": null,
   "metadata": {},
   "outputs": [],
   "source": []
  },
  {
   "cell_type": "markdown",
   "metadata": {},
   "source": [
    "####  Northern Hemisphere - Humidity (%) vs. Latitude Linear Regression"
   ]
  },
  {
   "cell_type": "code",
   "execution_count": 75,
   "metadata": {},
   "outputs": [
    {
     "name": "stdout",
     "output_type": "stream",
     "text": [
      "The r-squared is: 0.37390602292819636\n"
     ]
    },
    {
     "data": {
      "image/png": "[encoded data removed]",
      "text/plain": [
       "<Figure size 432x288 with 1 Axes>"
      ]
     },
     "metadata": {
      "needs_background": "light"
     },
     "output_type": "display_data"
    },
    {
     "data": {
      "text/plain": [
       "<Figure size 432x288 with 0 Axes>"
      ]
     },
     "metadata": {},
     "output_type": "display_data"
    }
   ],
   "source": [
    "x_values = north_hem[\"Lat\"]\n",
    "y_values = north_hem[\"Humidity\"]\n",
    "\n",
    "plot_linear_regression(x_values,y_values,'Humidity',(6,30))\n",
    "\n",
    "plt.savefig(\"Northhem.humidity.png\")"
   ]
  },
  {
   "cell_type": "code",
   "execution_count": null,
   "metadata": {},
   "outputs": [],
   "source": []
  },
  {
   "cell_type": "markdown",
   "metadata": {},
   "source": [
    "####  Southern Hemisphere - Humidity (%) vs. Latitude Linear Regression"
   ]
  },
  {
   "cell_type": "code",
   "execution_count": 78,
   "metadata": {},
   "outputs": [
    {
     "name": "stdout",
     "output_type": "stream",
     "text": [
      "The r-squared is: 0.3502058578378534\n"
     ]
    },
    {
     "data": {
      "image/png": "[encoded data removed]",
      "text/plain": [
       "<Figure size 432x288 with 1 Axes>"
      ]
     },
     "metadata": {
      "needs_background": "light"
     },
     "output_type": "display_data"
    },
    {
     "data": {
      "text/plain": [
       "<Figure size 432x288 with 0 Axes>"
      ]
     },
     "metadata": {},
     "output_type": "display_data"
    }
   ],
   "source": [
    "x_values = south_hem[\"Lat\"]\n",
    "y_values = south_hem[\"Humidity\"]\n",
    "plot_linear_regression(x_values,y_values,'Humidity',(6,30))\n",
    "\n",
    "plt.savefig(\"Southhemp.humidity.png\")"
   ]
  },
  {
   "cell_type": "markdown",
   "metadata": {},
   "source": [
    "####  Northern Hemisphere - Cloudiness (%) vs. Latitude Linear Regression"
   ]
  },
  {
   "cell_type": "code",
   "execution_count": 80,
   "metadata": {
    "scrolled": true
   },
   "outputs": [
    {
     "name": "stdout",
     "output_type": "stream",
     "text": [
      "The r-squared is: 0.2548317607782679\n"
     ]
    },
    {
     "data": {
      "image/png": "[encoded data removed]",
      "text/plain": [
       "<Figure size 432x288 with 1 Axes>"
      ]
     },
     "metadata": {
      "needs_background": "light"
     },
     "output_type": "display_data"
    },
    {
     "data": {
      "text/plain": [
       "<Figure size 432x288 with 0 Axes>"
      ]
     },
     "metadata": {},
     "output_type": "display_data"
    }
   ],
   "source": [
    "x_values = north_hem[\"Lat\"]\n",
    "y_values = north_hem[\"Cloudiness\"]\n",
    "plot_linear_regression(x_values,y_values,'Cloudiness',(6,30))\n",
    "plt.savefig(\"Northhem.Cloudiness.png\")"
   ]
  },
  {
   "cell_type": "code",
   "execution_count": null,
   "metadata": {},
   "outputs": [],
   "source": []
  },
  {
   "cell_type": "code",
   "execution_count": null,
   "metadata": {},
   "outputs": [],
   "source": []
  },
  {
   "cell_type": "markdown",
   "metadata": {},
   "source": [
    "####  Southern Hemisphere - Cloudiness (%) vs. Latitude Linear Regression"
   ]
  },
  {
   "cell_type": "code",
   "execution_count": 82,
   "metadata": {},
   "outputs": [
    {
     "name": "stdout",
     "output_type": "stream",
     "text": [
      "The r-squared is: 0.32057867047750516\n"
     ]
    },
    {
     "data": {
      "image/png": "[encoded data removed]",
      "text/plain": [
       "<Figure size 432x288 with 1 Axes>"
      ]
     },
     "metadata": {
      "needs_background": "light"
     },
     "output_type": "display_data"
    },
    {
     "data": {
      "text/plain": [
       "<Figure size 432x288 with 0 Axes>"
      ]
     },
     "metadata": {},
     "output_type": "display_data"
    }
   ],
   "source": [
    "x_values = south_hem[\"Lat\"]\n",
    "y_values = south_hem[\"Cloudiness\"]\n",
    "plot_linear_regression(x_values,y_values,'Cloudiness',(6,30))\n",
    "\n",
    "plt.savefig(\"Southhem.cloudiness.png\")"
   ]
  },
  {
   "cell_type": "code",
   "execution_count": null,
   "metadata": {},
   "outputs": [],
   "source": []
  },
  {
   "cell_type": "markdown",
   "metadata": {},
   "source": [
    "####  Northern Hemisphere - Wind Speed (mph) vs. Latitude Linear Regression"
   ]
  },
  {
   "cell_type": "code",
   "execution_count": 84,
   "metadata": {},
   "outputs": [
    {
     "name": "stdout",
     "output_type": "stream",
     "text": [
      "The r-squared is: 0.0846618599568762\n"
     ]
    },
    {
     "data": {
      "image/png": "[encoded data removed]",
      "text/plain": [
       "<Figure size 432x288 with 1 Axes>"
      ]
     },
     "metadata": {
      "needs_background": "light"
     },
     "output_type": "display_data"
    },
    {
     "data": {
      "text/plain": [
       "<Figure size 432x288 with 0 Axes>"
      ]
     },
     "metadata": {},
     "output_type": "display_data"
    }
   ],
   "source": [
    "x_values = north_hem[\"Lat\"]\n",
    "y_values = north_hem[\"Wind Speed\"]\n",
    "plot_linear_regression(x_values,y_values,'Wind Speed',(6,30))\n",
    "\n",
    "plt.savefig(\"Northhem.windspeed.png\")"
   ]
  },
  {
   "cell_type": "code",
   "execution_count": null,
   "metadata": {},
   "outputs": [],
   "source": []
  },
  {
   "cell_type": "markdown",
   "metadata": {},
   "source": [
    "####  Southern Hemisphere - Wind Speed (mph) vs. Latitude Linear Regression"
   ]
  },
  {
   "cell_type": "code",
   "execution_count": 86,
   "metadata": {},
   "outputs": [
    {
     "name": "stdout",
     "output_type": "stream",
     "text": [
      "The r-squared is: -0.30661684627052715\n"
     ]
    },
    {
     "data": {
      "image/png": "[encoded data removed]",
      "text/plain": [
       "<Figure size 432x288 with 1 Axes>"
      ]
     },
     "metadata": {
      "needs_background": "light"
     },
     "output_type": "display_data"
    },
    {
     "data": {
      "text/plain": [
       "<Figure size 432x288 with 0 Axes>"
      ]
     },
     "metadata": {},
     "output_type": "display_data"
    }
   ],
   "source": [
    "x_values = south_hem[\"Lat\"]\n",
    "y_values = south_hem[\"Wind Speed\"]\n",
    "plot_linear_regression(x_values,y_values,'Wind Speed',(6,30))\n",
    "\n",
    "plt.savefig(\"Southhem.windspeed.png\")"
   ]
  },
  {
   "cell_type": "code",
   "execution_count": null,
   "metadata": {},
   "outputs": [],
   "source": []
  }
 ],
 "metadata": {
  "anaconda-cloud": {},
  "kernel_info": {
   "name": "python3"
  },
  "kernelspec": {
   "display_name": "Python 3",
   "language": "python",
   "name": "python3"
  },
  "language_info": {
   "codemirror_mode": {
    "name": "ipython",
    "version": 3
   },
   "file_extension": ".py",
   "mimetype": "text/x-python",
   "name": "python",
   "nbconvert_exporter": "python",
   "pygments_lexer": "ipython3",
   "version": "3.8.5"
  },
  "latex_envs": {
   "LaTeX_envs_menu_present": true,
   "autoclose": false,
   "autocomplete": true,
   "bibliofile": "biblio.bib",
   "cite_by": "apalike",
   "current_citInitial": 1,
   "eqLabelWithNumbers": true,
   "eqNumInitial": 1,
   "hotkeys": {
    "equation": "Ctrl-E",
    "itemize": "Ctrl-I"
   },
   "labels_anchors": false,
   "latex_user_defs": false,
   "report_style_numbering": false,
   "user_envs_cfg": false
  },
  "nteract": {
   "version": "0.12.3"
  }
 },
 "nbformat": 4,
 "nbformat_minor": 2
}
